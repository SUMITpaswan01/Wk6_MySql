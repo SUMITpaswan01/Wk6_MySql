{
 "cells": [
  {
   "cell_type": "markdown",
   "id": "fbce459e-81a8-4855-ad79-9b333df5f024",
   "metadata": {},
   "source": [
    "Q1) What is a database? Differentiate between SQL and NoSQL database."
   ]
  },
  {
   "cell_type": "markdown",
   "id": "282505c2-af56-482a-ab5b-2401138c35fd",
   "metadata": {},
   "source": [
    "ANS:--> A database is an organized collection of data, stored and accessed electronically. Databases are used to store and manage large amounts of structured and unstructured data and usually controlled by a database management system (DBMS).\n",
    "\n",
    "SQL database:-->  These databases store data in the form of tables, with rows representing records and columns representing fields. Relationships between data can be established using keys. \n",
    "\n",
    "NoSQL databse:-->  These databases are designed to support the storage and management of large amounts of unstructured data. They do not use the traditional table-based structure of relational databases, and they often support horizontal scaling, which allows them to handle very large amounts of data and high levels of concurrency."
   ]
  },
  {
   "cell_type": "markdown",
   "id": "d19e4cdd-4c0d-485a-b7e2-5bfeb52b622a",
   "metadata": {},
   "source": [
    "Q2) What is DDL? Explain why CREATE, DROP, ALTER, and TRUNCATE are used with an example."
   ]
  },
  {
   "cell_type": "markdown",
   "id": "2f99ea92-7392-4ce4-aa03-2ee2ca4b460d",
   "metadata": {},
   "source": [
    "ANS:--> Data Definition Language(DDL) is a subset of SQL and a part of DBMS(Database Management System). DDL consist of Commands to commands like CREATE, ALTER, TRUNCATE and DROP."
   ]
  },
  {
   "cell_type": "code",
   "execution_count": null,
   "id": "a42d6103-ff28-4b26-9d06-61a00246e164",
   "metadata": {},
   "outputs": [],
   "source": [
    "#.....Example.....\n",
    "\n",
    "# Creating the table for storing students info.\n",
    "CREATE TABLE students_info (\n",
    "    Collage_name varchar(20),\n",
    "    Student_id number (5),\n",
    "    Branch varchar (10)\n",
    ");\n",
    "\n",
    "# Adding a new column for CGPA using ALTER command\n",
    "ALTER TABLE students_info\n",
    "ADD CGPA ;\n",
    "\n",
    "# Removing all the row from table but structure of table stil exixts using truncate commands\n",
    "TRUNCATE TABLE students_info;\n",
    "\n",
    "#Removing exixts table along with its structure from the Database\n",
    "DROP TABLE students_info;\n",
    "    "
   ]
  },
  {
   "cell_type": "markdown",
   "id": "a002c6fa-d047-49e2-b113-7aaf7335a527",
   "metadata": {},
   "source": [
    "Q3) What is DML? Explain INSERT, UPDATE, and DELETE with an example."
   ]
  },
  {
   "cell_type": "markdown",
   "id": "90de9607-68a8-407a-b22b-2ded1a106fb8",
   "metadata": {},
   "source": [
    "ANS:--> Data Manipulation Language (DML) commands in SQL manage data records stored within the database tables. It does not deal with changes to database objects and their structure."
   ]
  },
  {
   "cell_type": "code",
   "execution_count": null,
   "id": "6ccc64d4-c9e7-4dae-a250-47b7d28435fa",
   "metadata": {},
   "outputs": [],
   "source": [
    "#....Example....\n",
    "# inserting the data into table using INSERT commmand\n",
    "INSERT INTO students_info(Collage_name , student_id , Branch , CGPA)\n",
    "VALUES('abc' , 7899 , 'CSE' , 8.9)\n",
    "\n",
    "# modify the value of an existing column in a database table\n",
    "UPDATE students_info\n",
    "SET CGPA = '8.9'\n",
    "WHERE CGPA = '9.5' ;\n",
    "\n",
    "# remove one or more rows from the database table\n",
    "DELETE FROM students_info\n",
    "WHERE Branch = 'CSE'\n",
    "AND CGPA = '8.9';"
   ]
  },
  {
   "cell_type": "markdown",
   "id": "947bc5df-a639-4ce0-9133-b7e37748d3d6",
   "metadata": {},
   "source": [
    "Q4) What is DQL? Explain SELECT with an example."
   ]
  },
  {
   "cell_type": "markdown",
   "id": "9a76af6e-f58a-4c1a-8891-e5cd45b026c0",
   "metadata": {},
   "source": [
    "ANS:--> DQL statements are used for performing queries on the data within schema objects. The purpose of the DQL Command is to get some schema relation based on the query passed to it."
   ]
  },
  {
   "cell_type": "code",
   "execution_count": null,
   "id": "3f9ed097-9864-44b4-8491-ee157064fe23",
   "metadata": {},
   "outputs": [],
   "source": [
    "#.....Example.....\n",
    "CREATE TABLE Customer(\n",
    "    CustomerID INT PRIMARY KEY,\n",
    "    CustomerName VARCHAR(50),\n",
    "    LastName VARCHAR(50),\n",
    "    Country VARCHAR(50),\n",
    "    Age int(2),\n",
    "  Phone int(10)\n",
    ");\n",
    "#Insert some sample data into the Customers table\n",
    "INSERT INTO Customer (CustomerID, CustomerName, LastName, Country, Age, Phone)\n",
    "VALUES (1, 'Shubham', 'Thakur', 'India','23','xxxxxxxxxx'),\n",
    "       (2, 'Aman ', 'Chopra', 'Australia','21','xxxxxxxxxx'),\n",
    "       (3, 'Naveen', 'Tulasi', 'Sri lanka','24','xxxxxxxxxx'),\n",
    "       (4, 'Aditya', 'Arpan', 'Austria','21','xxxxxxxxxx'),\n",
    "       (5, 'Nishant. Salchichas S.A.', 'Jain', 'Spain','22','xxxxxxxxxx');\n",
    "        \n",
    "#fetch the entire table or all the fields in the table customer\n",
    "SELECT * FROM Customer;"
   ]
  },
  {
   "cell_type": "markdown",
   "id": "60f042ed-9dca-4803-bb93-e2db1abcf196",
   "metadata": {},
   "source": [
    "Q5) Explain Primary Key and Foreign Key."
   ]
  },
  {
   "cell_type": "markdown",
   "id": "87f87f2e-c7a4-42fa-9725-e74c750aa2db",
   "metadata": {},
   "source": [
    "ANS:--> Primary Key-->(1) A primary key is used to ensure data in the specific column is unique.\n",
    "                      (2) It uniquely identifies a record in the relational database table.\n",
    "                      (3) Only one primary key is allowed in a table.It is a combination of UNIQUE and Not Null constraints.\n",
    "                      (4) Its value cannot be deleted from the parent table.\n",
    "                      (5) It does not allow NULL values.\n",
    "\n",
    "Foreign Key-->(1) A foreign key is a column or group of columns in a relational database table that provides a link between data in two tables.\n",
    "              (2) It refers to the field in a table which is the primary key of another table.\n",
    "              (3) more than one foreign key is allowed in a table.It can contain duplicate values and a table in a relational database.\n",
    "              (4) Its value can be deleted from the child table.\n",
    "              (5) \tIt can also contain NULL values."
   ]
  },
  {
   "cell_type": "markdown",
   "id": "8fa32267-febe-4647-b954-74924ec30cf6",
   "metadata": {},
   "source": [
    "Q6) Write a python code to connect MySQL to python. Explain the cursor() and execute() method."
   ]
  },
  {
   "cell_type": "code",
   "execution_count": null,
   "id": "4059947b-990e-4147-8559-de7725758464",
   "metadata": {},
   "outputs": [],
   "source": [
    "# CREATING DATABASE....\n",
    "import mysql.connector\n",
    "# establishing the connection\n",
    "mydb = mysql.connector.connect(\n",
    "    host = \"localhost\",\n",
    "    User = \"user\",\n",
    "    password = \"password\"\n",
    ")\n",
    "print(mydb)\n",
    "# Creating a cursor object using the mycursor() \n",
    "mycursor = mydb.cursor()\n",
    "# MySQL query as a parameter and executes the given query using excute()\n",
    "mycursor.excute(\"CREATE DATABASE if not exists test\")\n",
    "mydb.close()"
   ]
  },
  {
   "cell_type": "markdown",
   "id": "21cee497-f884-4f11-80e0-bcc31de04ba0",
   "metadata": {},
   "source": [
    "Q6) Give the order of execution of SQL clauses in an SQL query."
   ]
  },
  {
   "cell_type": "markdown",
   "id": "ea6fdbeb-ac18-4637-9f79-8f0cf478cec4",
   "metadata": {},
   "source": [
    "ANS:--> The order of execution of SQL clauses in an SQL query are:-\n",
    "        1)FROM [my]\n",
    "        2)WHERE\n",
    "        3)GROUP BY \n",
    "        4)HAVING\n",
    "        5)SELECT\n",
    "        6)ORDER BY\n",
    "        7)LIMIT"
   ]
  }
 ],
 "metadata": {
  "kernelspec": {
   "display_name": "Python 3 (ipykernel)",
   "language": "python",
   "name": "python3"
  },
  "language_info": {
   "codemirror_mode": {
    "name": "ipython",
    "version": 3
   },
   "file_extension": ".py",
   "mimetype": "text/x-python",
   "name": "python",
   "nbconvert_exporter": "python",
   "pygments_lexer": "ipython3",
   "version": "3.10.8"
  }
 },
 "nbformat": 4,
 "nbformat_minor": 5
}
